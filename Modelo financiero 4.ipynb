{
 "cells": [
  {
   "cell_type": "markdown",
   "metadata": {},
   "source": [
    "## Reconstrucción"
   ]
  },
  {
   "cell_type": "code",
   "execution_count": 1,
   "metadata": {
    "collapsed": true
   },
   "outputs": [],
   "source": [
    "#Librerias\n",
    "import glob\n",
    "import pandas as pd\n",
    "import numpy as np\n",
    "import matplotlib.pyplot as plt\n",
    "import statistics as st"
   ]
  },
  {
   "cell_type": "code",
   "execution_count": 2,
   "metadata": {
    "collapsed": true
   },
   "outputs": [],
   "source": [
    "path ='/media/anmrodriguezsa/DA4E639F4E6372E5/Users/Ángela/Desktop/Proyecto1/acciones'  ##Linux\n",
    "#path ='C:/Users/Ángela/Desktop/Proyecto1/acciones'   #windows"
   ]
  },
  {
   "cell_type": "code",
   "execution_count": 3,
   "metadata": {},
   "outputs": [],
   "source": [
    "# Lectura de archivos .csv y Selección de los precios de cierre de cada acción.\n",
    "\n",
    "def LecYSel(path):\n",
    "    allFiles = glob.glob(path + \"/*.csv\")\n",
    "    Pc=np.asarray([])\n",
    "    flagFirst = 0\n",
    "        \n",
    "    for file_ in allFiles:\n",
    "        Data = pd.read_csv(file_,index_col=None, header=0)  #Lectura de archivos .csv\n",
    "        x  = Data[\"Último\"].values   #Selección de los valores del precio de cierre de las acciones\n",
    "        x = [s. replace('.','') for s in x] \n",
    "        x = [s. replace(',','.') for s in x]\n",
    "        v = [float(s) for s in x] \n",
    "        closingPrice = np.flipud(v)\n",
    "        \n",
    "        if flagFirst==0:\n",
    "            flagFirst = 1\n",
    "            Pc = closingPrice\n",
    "        else:\n",
    "            Pc = np.vstack((Pc,closingPrice)) #\"transpone\"\n",
    "    return(Pc)"
   ]
  },
  {
   "cell_type": "code",
   "execution_count": 4,
   "metadata": {},
   "outputs": [],
   "source": [
    "#Cálculo promedio, desviación estándar, matriz de covarianzas de los precios de cierre de cada acción\n",
    "\n",
    "def Av(X):                      \n",
    "    Av=np.zeros(X.shape[0])           \n",
    "    \n",
    "    for i in range(X.shape[0]):\n",
    "        Av[i]= st.mean(X[i,:])        #Cálculo de la media \n",
    "    return Av\n",
    "\n",
    "def Dst(X):                      \n",
    "    DS=np.zeros(X.shape[0])           \n",
    "    \n",
    "    for i in range(X.shape[0]):\n",
    "        DS[i]= st.stdev(X[i,:])       #Cálculo de Desviación Estándar\n",
    "    return DS\n",
    "\n",
    "def cov(a, b):\n",
    "    if len(a) != len(b):\n",
    "        return\n",
    "\n",
    "    a_mean = np.mean(a)\n",
    "    b_mean = np.mean(b)\n",
    "    sum = 0\n",
    "\n",
    "    for i in range(0, len(a)):\n",
    "        sum += ((a[i] - a_mean) * (b[i] - b_mean))     #Cálculo covarianza entre dos vectores\n",
    "    return sum/(len(a)-1)\n",
    "\n",
    "\n",
    "def Mcov(M):\n",
    "    C=np.zeros((M.shape[0],M.shape[0]))\n",
    " \n",
    "    for i in range(M.shape[0]):\n",
    "        for j in range(M.shape[0]):\n",
    "            C[i][j] = cov(M[i,:],M[j,:])                            #Matriz de covarianza\n",
    "    return(C)"
   ]
  },
  {
   "cell_type": "code",
   "execution_count": 13,
   "metadata": {},
   "outputs": [
    {
     "ename": "TypeError",
     "evalue": "constraint1() missing 1 required positional argument: 'r'",
     "output_type": "error",
     "traceback": [
      "\u001b[0;31m---------------------------------------------------------------------------\u001b[0m",
      "\u001b[0;31mTypeError\u001b[0m                                 Traceback (most recent call last)",
      "\u001b[0;32m<ipython-input-13-87ae76791bcd>\u001b[0m in \u001b[0;36m<module>\u001b[0;34m()\u001b[0m\n\u001b[1;32m     41\u001b[0m \u001b[0mcon3\u001b[0m \u001b[0;34m=\u001b[0m \u001b[0;34m{\u001b[0m\u001b[0;34m'type'\u001b[0m\u001b[0;34m:\u001b[0m \u001b[0;34m'ineq'\u001b[0m\u001b[0;34m,\u001b[0m \u001b[0;34m'fun'\u001b[0m\u001b[0;34m:\u001b[0m \u001b[0mconstraint3\u001b[0m\u001b[0;34m}\u001b[0m\u001b[0;34m\u001b[0m\u001b[0m\n\u001b[1;32m     42\u001b[0m \u001b[0mcons\u001b[0m \u001b[0;34m=\u001b[0m \u001b[0;34m(\u001b[0m\u001b[0;34m[\u001b[0m\u001b[0mcon1\u001b[0m\u001b[0;34m,\u001b[0m\u001b[0mcon2\u001b[0m\u001b[0;34m,\u001b[0m\u001b[0mcon3\u001b[0m\u001b[0;34m]\u001b[0m\u001b[0;34m)\u001b[0m\u001b[0;34m\u001b[0m\u001b[0m\n\u001b[0;32m---> 43\u001b[0;31m \u001b[0msolution\u001b[0m \u001b[0;34m=\u001b[0m \u001b[0mminimize\u001b[0m\u001b[0;34m(\u001b[0m\u001b[0mminiz\u001b[0m\u001b[0;34m,\u001b[0m\u001b[0mw0\u001b[0m\u001b[0;34m,\u001b[0m\u001b[0mmethod\u001b[0m\u001b[0;34m=\u001b[0m\u001b[0;34m'SLSQP'\u001b[0m\u001b[0;34m,\u001b[0m                    \u001b[0mbounds\u001b[0m\u001b[0;34m=\u001b[0m\u001b[0mbnds\u001b[0m\u001b[0;34m,\u001b[0m\u001b[0mconstraints\u001b[0m\u001b[0;34m=\u001b[0m\u001b[0mcons\u001b[0m\u001b[0;34m)\u001b[0m\u001b[0;34m\u001b[0m\u001b[0m\n\u001b[0m\u001b[1;32m     44\u001b[0m \u001b[0mx\u001b[0m \u001b[0;34m=\u001b[0m \u001b[0msolution\u001b[0m\u001b[0;34m.\u001b[0m\u001b[0mx\u001b[0m\u001b[0;34m\u001b[0m\u001b[0m\n\u001b[1;32m     45\u001b[0m \u001b[0;34m\u001b[0m\u001b[0m\n",
      "\u001b[0;32m/usr/local/lib/python3.5/dist-packages/scipy/optimize/_minimize.py\u001b[0m in \u001b[0;36mminimize\u001b[0;34m(fun, x0, args, method, jac, hess, hessp, bounds, constraints, tol, callback, options)\u001b[0m\n\u001b[1;32m    493\u001b[0m     \u001b[0;32melif\u001b[0m \u001b[0mmeth\u001b[0m \u001b[0;34m==\u001b[0m \u001b[0;34m'slsqp'\u001b[0m\u001b[0;34m:\u001b[0m\u001b[0;34m\u001b[0m\u001b[0m\n\u001b[1;32m    494\u001b[0m         return _minimize_slsqp(fun, x0, args, jac, bounds,\n\u001b[0;32m--> 495\u001b[0;31m                                constraints, callback=callback, **options)\n\u001b[0m\u001b[1;32m    496\u001b[0m     \u001b[0;32melif\u001b[0m \u001b[0mmeth\u001b[0m \u001b[0;34m==\u001b[0m \u001b[0;34m'dogleg'\u001b[0m\u001b[0;34m:\u001b[0m\u001b[0;34m\u001b[0m\u001b[0m\n\u001b[1;32m    497\u001b[0m         return _minimize_dogleg(fun, x0, args, jac, hess,\n",
      "\u001b[0;32m/usr/local/lib/python3.5/dist-packages/scipy/optimize/slsqp.py\u001b[0m in \u001b[0;36m_minimize_slsqp\u001b[0;34m(func, x0, args, jac, bounds, constraints, maxiter, ftol, iprint, disp, eps, callback, **unknown_options)\u001b[0m\n\u001b[1;32m    310\u001b[0m     \u001b[0;31m# meq, mieq: number of equality and inequality constraints\u001b[0m\u001b[0;34m\u001b[0m\u001b[0;34m\u001b[0m\u001b[0m\n\u001b[1;32m    311\u001b[0m     meq = sum(map(len, [atleast_1d(c['fun'](x, *c['args']))\n\u001b[0;32m--> 312\u001b[0;31m               for c in cons['eq']]))\n\u001b[0m\u001b[1;32m    313\u001b[0m     mieq = sum(map(len, [atleast_1d(c['fun'](x, *c['args']))\n\u001b[1;32m    314\u001b[0m                for c in cons['ineq']]))\n",
      "\u001b[0;32m/usr/local/lib/python3.5/dist-packages/scipy/optimize/slsqp.py\u001b[0m in \u001b[0;36m<listcomp>\u001b[0;34m(.0)\u001b[0m\n\u001b[1;32m    310\u001b[0m     \u001b[0;31m# meq, mieq: number of equality and inequality constraints\u001b[0m\u001b[0;34m\u001b[0m\u001b[0;34m\u001b[0m\u001b[0m\n\u001b[1;32m    311\u001b[0m     meq = sum(map(len, [atleast_1d(c['fun'](x, *c['args']))\n\u001b[0;32m--> 312\u001b[0;31m               for c in cons['eq']]))\n\u001b[0m\u001b[1;32m    313\u001b[0m     mieq = sum(map(len, [atleast_1d(c['fun'](x, *c['args']))\n\u001b[1;32m    314\u001b[0m                for c in cons['ineq']]))\n",
      "\u001b[0;31mTypeError\u001b[0m: constraint1() missing 1 required positional argument: 'r'"
     ]
    }
   ],
   "source": [
    "from scipy.optimize import minimize\n",
    "\n",
    "#valores iniciales\n",
    "r = 0\n",
    "w0=np.array([1,0,0,0,0,0,0,0,0,0,0,0,0,0,0,0,0,0,0,0,0,0,0,0,0,0,0])\n",
    "\n",
    "def miniz(M,Pc):\n",
    "    w=np.zeros(M.shape[0])\n",
    "    for i in range(w.size):\n",
    "        for j in range(w.size):\n",
    "            S=(1/2)*sum(sum(M[i][j]*w[i]*w[j]))\n",
    "    return S\n",
    "\n",
    "def constraint1(Pc,r):\n",
    "    U=np.ones(Pc.shape[0])\n",
    "    w=np.zeros(Pc.shape[0])\n",
    "    sum_= r\n",
    "    for i in range(w.size):\n",
    "        sum_=sum_ - Av[i]*w[i]        \n",
    "    return sum_\n",
    "\n",
    "def constraint2(Pc):\n",
    "    w=np.zeros(Pc.shape[0])\n",
    "    Sum_= 1\n",
    "    for i in range(w.size):\n",
    "        Sum_= Sum_ - w[i]        \n",
    "    return Sum_\n",
    "\n",
    "def constraint3(Pc):\n",
    "    w=np.zeros(Pc.shape[0])    \n",
    "    for i in range(w.size):\n",
    "        w[i]>=0        \n",
    "    return w\n",
    "\n",
    "# Optimización\n",
    "b = (0,1)\n",
    "bnds = (b, b, b, b, b,b,b,b,b,b,b,b,b,b,b,b,b,b,b,b,b,b,b,b,b,b)\n",
    "con1 = {'type': 'eq', 'fun': constraint1} \n",
    "con2 = {'type': 'eq', 'fun': constraint2}\n",
    "con3 = {'type': 'ineq', 'fun': constraint3} \n",
    "cons = ([con1,con2,con3])\n",
    "solution = minimize(miniz,w0,method='SLSQP',\\\n",
    "                    bounds=bnds,constraints=cons)\n",
    "x = solution.x\n",
    "\n"
   ]
  },
  {
   "cell_type": "code",
   "execution_count": 22,
   "metadata": {},
   "outputs": [
    {
     "data": {
      "text/plain": [
       "(array([-5.08790685e-05,  3.47115556e-04, -2.51186192e-04,  3.86711966e-04,\n",
       "         4.10694337e-05,  1.19883273e-04,  3.97813842e-05, -1.72630716e-05,\n",
       "        -5.82554251e-05, -3.29708541e-05,  8.51570632e-05, -9.67146332e-05,\n",
       "         3.76484918e-04, -2.63249457e-04, -1.43711171e-04, -8.34711737e-05,\n",
       "        -3.34917700e-05,  4.47161622e-05,  3.12694520e-04,  2.78820342e-05,\n",
       "        -2.76924928e-04,  1.08322505e-05, -7.64297080e-05, -3.03348961e-04,\n",
       "         1.03249328e-03,  6.88135022e-05]),\n",
       " array([0.01110525, 0.07576408, 0.05482581, 0.0844067 , 0.00896413,\n",
       "        0.02616664, 0.00868299, 0.00376797, 0.01271527, 0.00719647,\n",
       "        0.01858703, 0.02110967, 0.08217446, 0.05745883, 0.03136749,\n",
       "        0.01821905, 0.00731017, 0.00976009, 0.06825109, 0.00608575,\n",
       "        0.06044374, 0.00236433, 0.01668213, 0.06621125, 0.22535984,\n",
       "        0.01501976]))"
      ]
     },
     "execution_count": 22,
     "metadata": {},
     "output_type": "execute_result"
    }
   ],
   "source": [
    "#Simulación del cálculo de los pesos con el módelo clásico de Markowitz\n",
    "\n",
    "def  wM(rf,Pc):\n",
    "    M= Mcov(Pc)\n",
    "    U= np.ones(Pc.shape[0])\n",
    "    A=np.matmul(np.transpose(U),np.linalg.inv(M),Av(Pc))\n",
    "    B=np.matmul(np.transpose(U),np.linalg.inv(M),U)\n",
    "    C=np.matmul(np.transpose(Av(Pc)),np.linalg.inv(M),Av(Pc))\n",
    "    D=B*C-A**2\n",
    "    g=(1/D)*(B*np.matmul(np.linalg.inv(M),U)-A*np.matmul(np.linalg.inv(M),Av(Pc)))\n",
    "    h=(1/D)*(C*np.matmul(np.linalg.inv(M),Av(Pc))-A*np.matmul(np.linalg.inv(M),U))\n",
    "    w=g+h*rf\n",
    "    \n",
    "    wN=np.zeros(len(w))\n",
    "    wS=np.sum(abs(w))\n",
    "    for i in range(len(w)):        \n",
    "        wN[i]=abs(w[i])/wS\n",
    "    \n",
    "    return w,wN\n",
    "\n",
    "#wM(0,LecYSel(path))\n",
    "\n",
    "#Simulación del cálculo de los pesos con el módelo mínima varianza\n",
    "\n",
    "def  wmv(Pc):\n",
    "    M= Mcov(Pc)\n",
    "    U= np.ones(Pc.shape[0])\n",
    "    C=np.matmul(np.transpose(Av(Pc)),np.linalg.inv(M),Av(Pc))\n",
    "    w=(1/C)*np.matmul(np.linalg.inv(M),U)\n",
    "    \n",
    "    wN=np.zeros(len(w))\n",
    "    wS=np.sum(abs(w))\n",
    "    for i in range(len(w)):        \n",
    "        wN[i]=abs(w[i])/wS\n",
    "    \n",
    "    return w,wN\n",
    "\n",
    "wmv(LecYSel(path))"
   ]
  },
  {
   "cell_type": "code",
   "execution_count": null,
   "metadata": {
    "collapsed": true
   },
   "outputs": [],
   "source": [
    "y_t=Vt[:,0] #Vector de precio relativo\n",
    "\n",
    "w_0=np.array([1,0,0,0,0,0,0,0,0,0,0,0,0,0,0,0,0,0,0,0,0,0,0,0,0,0,0])\n",
    "\n",
    "p_0=200    #capital inicial a invertir\n",
    "p_1=p_0*np.matmul(y_t,w_0) #Valor del portafolio en el periodo 1\n",
    "rho_1=p_1/p_0 -1     #Tasa de retorno\n",
    "print(rho_1)\n",
    "r_1=np.log(p_1/p_0)   #Tasa de retorno logarítmica\n",
    "print(r_1)"
   ]
  }
 ],
 "metadata": {
  "kernelspec": {
   "display_name": "Python 3",
   "language": "python",
   "name": "python3"
  },
  "language_info": {
   "codemirror_mode": {
    "name": "ipython",
    "version": 3
   },
   "file_extension": ".py",
   "mimetype": "text/x-python",
   "name": "python",
   "nbconvert_exporter": "python",
   "pygments_lexer": "ipython3",
   "version": "3.5.2"
  }
 },
 "nbformat": 4,
 "nbformat_minor": 2
}
