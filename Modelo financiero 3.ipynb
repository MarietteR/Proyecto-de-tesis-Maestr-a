{
 "cells": [
  {
   "cell_type": "markdown",
   "metadata": {},
   "source": [
    "## Reconstrucción"
   ]
  },
  {
   "cell_type": "code",
   "execution_count": 9,
   "metadata": {
    "collapsed": true
   },
   "outputs": [],
   "source": [
    "#Librerias\n",
    "import glob\n",
    "import pandas as pd\n",
    "import numpy as np\n",
    "import matplotlib.pyplot as plt\n",
    "import statistics as st"
   ]
  },
  {
   "cell_type": "code",
   "execution_count": 2,
   "metadata": {
    "collapsed": true
   },
   "outputs": [],
   "source": [
    "path ='/media/anmrodriguezsa/DA4E639F4E6372E5/Users/Ángela/Desktop/Proyecto1/acciones'  ##Linux\n",
    "#path ='C:/Users/Ángela/Desktop/Proyecto1/acciones'   #windows"
   ]
  },
  {
   "cell_type": "code",
   "execution_count": 4,
   "metadata": {},
   "outputs": [
    {
     "name": "stdout",
     "output_type": "stream",
     "text": [
      "<class 'numpy.ndarray'>\n"
     ]
    }
   ],
   "source": [
    "# Lectura de archivos .csv y Selección de los precios de cierre de cada acción.\n",
    "\n",
    "def LecYSel(path):\n",
    "    allFiles = glob.glob(path + \"/*.csv\")\n",
    "    Pc=np.asarray([])\n",
    "    flagFirst = 0\n",
    "        \n",
    "    for file_ in allFiles:\n",
    "        Data = pd.read_csv(file_,index_col=None, header=0)  #Lectura de archivos .csv\n",
    "        x  = Data[\"Último\"].values   #Selección de los valores del precio de cierre de las acciones\n",
    "        x = [s. replace('.','') for s in x] \n",
    "        x = [s. replace(',','.') for s in x]\n",
    "        v = [float(s) for s in x] \n",
    "        closingPrice = np.flipud(v)\n",
    "        \n",
    "        if flagFirst==0:\n",
    "            flagFirst = 1\n",
    "            Pc = closingPrice\n",
    "        else:\n",
    "            Pc = np.vstack((Pc,closingPrice)) #\"transpone\"\n",
    "    return(Pc)\n",
    "\n",
    "\n",
    "print(type(LecYSel(path)))"
   ]
  },
  {
   "cell_type": "code",
   "execution_count": 6,
   "metadata": {},
   "outputs": [],
   "source": [
    "#Cálculo promedio, desviación estándar, matriz de covarianzas de los precios de cierre de cada acción\n",
    "\n",
    "def Av(X):                      \n",
    "    Av=np.zeros(X.shape[0])           \n",
    "    \n",
    "    for i in range(X.shape[0]):\n",
    "        Av[i]= st.mean(X[i,:])        #Cálculo de la media \n",
    "    return Av\n",
    "\n",
    "def Dst(X):                      \n",
    "    DS=np.zeros(X.shape[0])           \n",
    "    \n",
    "    for i in range(X.shape[0]):\n",
    "        DS[i]= st.stdev(X[i,:])       #Cálculo de Desviación Estándar\n",
    "    return DS\n",
    "\n",
    "def cov(a, b):\n",
    "    if len(a) != len(b):\n",
    "        return\n",
    "\n",
    "    a_mean = np.mean(a)\n",
    "    b_mean = np.mean(b)\n",
    "    sum = 0\n",
    "\n",
    "    for i in range(0, len(a)):\n",
    "        sum += ((a[i] - a_mean) * (b[i] - b_mean))     #Cálculo covarianza entre dos vectores\n",
    "    return sum/(len(a)-1)\n",
    "\n",
    "\n",
    "def Mcov(M):\n",
    "    C=np.zeros((M.shape[0],M.shape[0]))\n",
    " \n",
    "    for i in range(M.shape[0]):\n",
    "        for j in range(M.shape[0]):\n",
    "            C[i][j] = cov(M[i,:],M[j,:])                            #Matriz de covarianza\n",
    "    return(C)"
   ]
  },
  {
   "cell_type": "code",
   "execution_count": 22,
   "metadata": {},
   "outputs": [
    {
     "data": {
      "text/plain": [
       "(array([-5.08790685e-05,  3.47115556e-04, -2.51186192e-04,  3.86711966e-04,\n",
       "         4.10694337e-05,  1.19883273e-04,  3.97813842e-05, -1.72630716e-05,\n",
       "        -5.82554251e-05, -3.29708541e-05,  8.51570632e-05, -9.67146332e-05,\n",
       "         3.76484918e-04, -2.63249457e-04, -1.43711171e-04, -8.34711737e-05,\n",
       "        -3.34917700e-05,  4.47161622e-05,  3.12694520e-04,  2.78820342e-05,\n",
       "        -2.76924928e-04,  1.08322505e-05, -7.64297080e-05, -3.03348961e-04,\n",
       "         1.03249328e-03,  6.88135022e-05]),\n",
       " array([0.01110525, 0.07576408, 0.05482581, 0.0844067 , 0.00896413,\n",
       "        0.02616664, 0.00868299, 0.00376797, 0.01271527, 0.00719647,\n",
       "        0.01858703, 0.02110967, 0.08217446, 0.05745883, 0.03136749,\n",
       "        0.01821905, 0.00731017, 0.00976009, 0.06825109, 0.00608575,\n",
       "        0.06044374, 0.00236433, 0.01668213, 0.06621125, 0.22535984,\n",
       "        0.01501976]))"
      ]
     },
     "execution_count": 22,
     "metadata": {},
     "output_type": "execute_result"
    }
   ],
   "source": [
    "#Simulación del cálculo de los pesos con el módelo clásico de Markowitz\n",
    "\n",
    "def  wM(rf,Pc):\n",
    "    M= Mcov(Pc)\n",
    "    U= np.ones(Pc.shape[0])\n",
    "    A=np.matmul(np.transpose(U),np.linalg.inv(M),Av(Pc))\n",
    "    B=np.matmul(np.transpose(U),np.linalg.inv(M),U)\n",
    "    C=np.matmul(np.transpose(Av(Pc)),np.linalg.inv(M),Av(Pc))\n",
    "    D=B*C-A**2\n",
    "    g=(1/D)*(B*np.matmul(np.linalg.inv(M),U)-A*np.matmul(np.linalg.inv(M),Av(Pc)))\n",
    "    h=(1/D)*(C*np.matmul(np.linalg.inv(M),Av(Pc))-A*np.matmul(np.linalg.inv(M),U))\n",
    "    w=g+h*rf\n",
    "    \n",
    "    wN=np.zeros(len(w))\n",
    "    wS=np.sum(abs(w))\n",
    "    for i in range(len(w)):        \n",
    "        wN[i]=abs(w[i])/wS\n",
    "    \n",
    "    return w,wN\n",
    "\n",
    "#wM(0,LecYSel(path))\n",
    "\n",
    "#Simulación del cálculo de los pesos con el módelo mínima varianza\n",
    "\n",
    "def  wmv(Pc):\n",
    "    M= Mcov(Pc)\n",
    "    U= np.ones(Pc.shape[0])\n",
    "    C=np.matmul(np.transpose(Av(Pc)),np.linalg.inv(M),Av(Pc))\n",
    "    w=(1/C)*np.matmul(np.linalg.inv(M),U)\n",
    "    \n",
    "    wN=np.zeros(len(w))\n",
    "    wS=np.sum(abs(w))\n",
    "    for i in range(len(w)):        \n",
    "        wN[i]=abs(w[i])/wS\n",
    "    \n",
    "    return w,wN\n",
    "\n",
    "wmv(LecYSel(path))"
   ]
  },
  {
   "cell_type": "code",
   "execution_count": null,
   "metadata": {
    "collapsed": true
   },
   "outputs": [],
   "source": [
    "y_t=Vt[:,0] #Vector de precio relativo\n",
    "\n",
    "w_0=np.array([1,0,0,0,0,0,0,0,0,0,0,0,0,0,0,0,0,0,0,0,0,0,0,0,0,0,0])\n",
    "\n",
    "p_0=200    #capital inicial a invertir\n",
    "p_1=p_0*np.matmul(y_t,w_0) #Valor del portafolio en el periodo 1\n",
    "rho_1=p_1/p_0 -1     #Tasa de retorno\n",
    "print(rho_1)\n",
    "r_1=np.log(p_1/p_0)   #Tasa de retorno logarítmica\n",
    "print(r_1)"
   ]
  }
 ],
 "metadata": {
  "kernelspec": {
   "display_name": "Python 3",
   "language": "python",
   "name": "python3"
  },
  "language_info": {
   "codemirror_mode": {
    "name": "ipython",
    "version": 3
   },
   "file_extension": ".py",
   "mimetype": "text/x-python",
   "name": "python",
   "nbconvert_exporter": "python",
   "pygments_lexer": "ipython3",
   "version": "3.5.2"
  }
 },
 "nbformat": 4,
 "nbformat_minor": 2
}
