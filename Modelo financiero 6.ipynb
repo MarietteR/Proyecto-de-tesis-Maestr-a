{
 "cells": [
  {
   "cell_type": "markdown",
   "metadata": {},
   "source": [
    "## Reconstrucción"
   ]
  },
  {
   "cell_type": "code",
   "execution_count": 2,
   "metadata": {
    "collapsed": true
   },
   "outputs": [],
   "source": [
    "#Librerias\n",
    "import glob\n",
    "import pandas as pd\n",
    "import numpy as np\n",
    "import matplotlib.pyplot as plt\n",
    "import statistics as st\n",
    "from scipy.optimize import minimize"
   ]
  },
  {
   "cell_type": "code",
   "execution_count": 3,
   "metadata": {
    "collapsed": true
   },
   "outputs": [],
   "source": [
    "path ='/media/anmrodriguezsa/DA4E639F4E6372E5/Users/Ángela/Desktop/Proyecto1/acciones'  ##Linux\n",
    "#path ='C:/Users/Ángela/Desktop/Proyecto1/acciones'   #windows"
   ]
  },
  {
   "cell_type": "code",
   "execution_count": 22,
   "metadata": {},
   "outputs": [],
   "source": [
    "# Lectura de archivos .csv y Selección de los precios de cierre de cada acción.\n",
    "\n",
    "def LecYSel(path):\n",
    "    allFiles = glob.glob(path + \"/*.csv\")\n",
    "    Pc=np.asarray([])\n",
    "    flagFirst = 0\n",
    "        \n",
    "    for file_ in allFiles:\n",
    "        Data = pd.read_csv(file_,index_col=None, header=0)  #Lectura de archivos .csv\n",
    "        x  = Data[\"Último\"].values   #Selección de los valores del precio de cierre de las acciones\n",
    "        x = [s. replace('.','') for s in x] \n",
    "        x = [s. replace(',','.') for s in x]\n",
    "        v = [float(s) for s in x] \n",
    "        \n",
    "        if flagFirst==0:\n",
    "            flagFirst = 1\n",
    "            Pc = v\n",
    "        else:\n",
    "            Pc = np.vstack((Pc,v)) #\"pega\"\n",
    "    return(Pc)"
   ]
  },
  {
   "cell_type": "code",
   "execution_count": 30,
   "metadata": {},
   "outputs": [],
   "source": [
    "#Cálculo precios relativos\n",
    "\n",
    "def retorn(M):\n",
    "    M=np.transpose(M)\n",
    "    vt=np.zeros((M.shape[0], M.shape[1]))\n",
    "            \n",
    "    for i in range(M.shape[1]):\n",
    "        for j in range(M.shape[0]):\n",
    "            vt[j][i] = M[j-1][i] /M[j][i] #Cálculo de vt (según artículo guía)\n",
    "    \n",
    "    Vt=np.transpose(np.delete(vt,0,0))\n",
    "    onesColumn = np.ones((1,Vt.shape[1]));\n",
    "    Vt = np.vstack((onesColumn,Vt)) # ubica elementos en la parte inferior - en este caso ubica filas-\n",
    "    #plt.matshow(V_t)\n",
    "    return Vt"
   ]
  },
  {
   "cell_type": "code",
   "execution_count": 24,
   "metadata": {},
   "outputs": [],
   "source": [
    "#Cálculo promedio, desviación estándar, matriz de covarianzas de los precios de cierre de cada acción\n",
    "\n",
    "def Av(X):                      \n",
    "    Av=np.zeros(X.shape[0])           \n",
    "    \n",
    "    for i in range(X.shape[0]):\n",
    "        Av[i]= st.mean(X[i,:])        #Cálculo de la media \n",
    "    return Av\n",
    "\n",
    "def cov(a, b):\n",
    "    if len(a) != len(b):\n",
    "        return\n",
    "\n",
    "    a_mean = np.mean(a)\n",
    "    b_mean = np.mean(b)\n",
    "    sum = 0\n",
    "\n",
    "    for i in range(0, len(a)):\n",
    "        sum += ((a[i] - a_mean) * (b[i] - b_mean))     #Cálculo covarianza entre dos vectores\n",
    "    return sum/(len(a)-1)\n",
    "\n",
    "\n",
    "def Mcov(M):\n",
    "    C=np.zeros((M.shape[0],M.shape[0]))\n",
    " \n",
    "    for i in range(M.shape[0]):\n",
    "        for j in range(M.shape[0]):\n",
    "            C[i][j] = cov(M[i,:],M[j,:])                            #Matriz de covarianza\n",
    "    return(C)"
   ]
  },
  {
   "cell_type": "code",
   "execution_count": 26,
   "metadata": {},
   "outputs": [],
   "source": [
    "#Simulación del cálculo de los pesos con el módelo clásico de Markowitz\n",
    "\n",
    "def  wM(rf,Pc):\n",
    "    M= Mcov(Pc)\n",
    "    U= np.ones(Pc.shape[0])\n",
    "    A=np.matmul(np.transpose(U),np.linalg.inv(M),Av(Pc))\n",
    "    B=np.matmul(np.transpose(U),np.linalg.inv(M),U)\n",
    "    C=np.matmul(np.transpose(Av(Pc)),np.linalg.inv(M),Av(Pc))\n",
    "    D=B*C-A**2\n",
    "    g=(1/D)*(B*np.matmul(np.linalg.inv(M),U)-A*np.matmul(np.linalg.inv(M),Av(Pc)))\n",
    "    h=(1/D)*(C*np.matmul(np.linalg.inv(M),Av(Pc))-A*np.matmul(np.linalg.inv(M),U))\n",
    "    w=g+h*rf\n",
    "    \n",
    "    wN=np.zeros(len(w))\n",
    "    wS=np.sum(abs(w))\n",
    "    for i in range(len(w)):        \n",
    "        wN[i]=abs(w[i])/wS\n",
    "    \n",
    "    return w,wN\n",
    "\n",
    "#wM(0,LecYSel(path))\n",
    "\n",
    "#Simulación del cálculo de los pesos con el módelo mínima varianza\n",
    "\n",
    "def  wmv(Pc):\n",
    "    M= Mcov(Pc)\n",
    "    U= np.ones(Pc.shape[0])\n",
    "    C=np.matmul(np.transpose(Av(Pc)),np.linalg.inv(M),Av(Pc))\n",
    "    w=(1/C)*np.matmul(np.linalg.inv(M),U)\n",
    "    \n",
    "    #wN=np.zeros(len(w))\n",
    "    #wS=np.sum(abs(w))\n",
    "    #for i in range(len(w)):        \n",
    "     #   wN[i]=abs(w[i])/wS\n",
    "    \n",
    "    return w\n"
   ]
  },
  {
   "cell_type": "code",
   "execution_count": 32,
   "metadata": {
    "collapsed": true
   },
   "outputs": [],
   "source": [
    "#Cálculo del portafolio y la tasa de retorno\n",
    "\n",
    "w_0=np.array([1,0,0,0,0,0,0,0,0,0,0,0,0,0,0,0,0,0,0,0,0,0,0,0,0,0,0])  #Peso inicial según artículo\n",
    "P_0=200                                                               #capital inicial a invertir\n",
    "\n",
    "def Valorport(Vt,w,P_0):\n",
    "   # P_(-1)=P_0\n",
    "    w=w_0\n",
    "    for i in range(Vt.shape[1]):\n",
    "        P_i=P_(i-1)*np.matmul(Vt[:,i],w)     #Valor del portafolio en el periodo i\n",
    "        if flagFirst==0:\n",
    "            flagFirst = 1\n",
    "            Pf= P_i\n",
    "        else:\n",
    "            Pf = np.vstack((Pf,P_i)) \n",
    "        print(Pf)    \n",
    "        \n",
    "        rho_i=P_i/P_(i-1) -1                #Tasa de retorno en t=i\n",
    "        if flagFirst==0:\n",
    "            flagFirst = 1\n",
    "            rhof= rho_i\n",
    "        else:\n",
    "            rhof = np.vstack((rhof,rho_i))  \n",
    "        print(rhof)     \n",
    "        \n",
    "        r_i=np.log(P_i/P_(i-1))                     #Tasa de retorno logarítmica\n",
    "        if flagFirst==0:\n",
    "            flagFirst = 1\n",
    "            rf= r_i\n",
    "        else:\n",
    "            rf = np.vstack((rf,r_i))        \n",
    "        print(rf)     \n",
    "        w=wmv(Pc)\n",
    "    return Pf,rhof,rf"
   ]
  }
 ],
 "metadata": {
  "kernelspec": {
   "display_name": "Python 3",
   "language": "python",
   "name": "python3"
  },
  "language_info": {
   "codemirror_mode": {
    "name": "ipython",
    "version": 3
   },
   "file_extension": ".py",
   "mimetype": "text/x-python",
   "name": "python",
   "nbconvert_exporter": "python",
   "pygments_lexer": "ipython3",
   "version": "3.5.2"
  }
 },
 "nbformat": 4,
 "nbformat_minor": 2
}
